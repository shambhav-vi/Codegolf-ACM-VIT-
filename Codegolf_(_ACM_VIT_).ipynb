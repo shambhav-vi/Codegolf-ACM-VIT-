{
  "nbformat": 4,
  "nbformat_minor": 0,
  "metadata": {
    "colab": {
      "name": "Codegolf ( ACM VIT ).ipynb",
      "provenance": []
    },
    "kernelspec": {
      "name": "python3",
      "display_name": "Python 3"
    },
    "language_info": {
      "name": "python"
    }
  },
  "cells": [
    {
      "cell_type": "markdown",
      "source": [
        "# **CODE GOLF 2022 (ACM VIT)**\n",
        "\n",
        "\n",
        "---\n",
        "\n",
        "\n",
        "\n"
      ],
      "metadata": {
        "id": "u4qNgNRuEXD2"
      }
    },
    {
      "cell_type": "markdown",
      "source": [
        "##QUESTION - I\n",
        "\n",
        "\n",
        "Given a square matrix of size N x N. The task is to rotate it by 90 degrees clockwise. \n",
        "\n",
        "Input: <br/>\n",
        "3 <br/>\n",
        "1  2  3  <br/>\n",
        "4  5  6  <br/>\n",
        "7  8  9  <br/>\n",
        "\n",
        "Output: <br/>\n",
        "\n",
        "7  4  1  <br/>\n",
        "8  5  2  <br/>\n",
        "9  6  3  <br/>\n"
      ],
      "metadata": {
        "id": "wgZCmKnYEPn7"
      }
    },
    {
      "cell_type": "code",
      "execution_count": null,
      "metadata": {
        "id": "5T0dv2HtEI45"
      },
      "outputs": [],
      "source": [
        "for i in [z[::-1] for z in zip(*[input().split() for _ in range(int(input()))])]:\n",
        "    print(*i)"
      ]
    },
    {
      "cell_type": "markdown",
      "source": [
        "##QUESTION - II\n",
        "\n",
        "Sort Array in Alternate Order\n",
        "\n",
        "Input: <br/>\n",
        "7 <br/>\n",
        "7 2 6 1 5 4 3 <br/>\n",
        "Output: <br/>\n",
        "1 7 2 6 3 5 4"
      ],
      "metadata": {
        "id": "4rsj5MQDEVNz"
      }
    },
    {
      "cell_type": "code",
      "source": [
        "a=sorted(list(map(int,input().split())))\n",
        "n=len(a)\n",
        "i,j=0,n-1\n",
        "while i<j:\n",
        "    print(a[i],end=' ')\n",
        "    i+=1\n",
        "    print(a[j],end=' ')\n",
        "    j-=1\n",
        "if n&1:\n",
        "    print(a[i])"
      ],
      "metadata": {
        "id": "cHIP9_OyGHr1"
      },
      "execution_count": null,
      "outputs": []
    },
    {
      "cell_type": "markdown",
      "source": [
        "## QUESTION - III\n",
        "\n",
        "\n",
        "Print YES If a Number is Prime and NO when it is not\n",
        "\n",
        "Input: 18 <br/>\n",
        "Output: NO\n",
        "\n",
        "Input: 13  <br/>\n",
        "Output: YES\n"
      ],
      "metadata": {
        "id": "oqH34716GY4r"
      }
    },
    {
      "cell_type": "code",
      "source": [
        "n=int(input())\n",
        "print(\"NO\" if any(not(n%i) for i in range(2,n)) or n==1 else \"YES\")"
      ],
      "metadata": {
        "id": "yrxiBNiXGpyv"
      },
      "execution_count": null,
      "outputs": []
    },
    {
      "cell_type": "markdown",
      "source": [
        "## QUESTION - IV\n",
        "\n",
        "Rotate Array By X.\n",
        "\n",
        "Input: \n",
        "5 <br/>\n",
        "1, 2, 3, 4, 5 <br/>\n",
        "2 <br/>\n",
        "Output: <br/>\n",
        "4, 5, 1, 2, 3\n",
        "\n",
        "\n",
        "Input:  <br/>\n",
        "5 <br/>\n",
        "1, 2, 3, 4, 5 <br/>\n",
        "-2 <br/>\n",
        "Output: <br/>\n",
        "3, 4, 5, 1, 2\n",
        "\n"
      ],
      "metadata": {
        "id": "F1QK5nMqGuV7"
      }
    },
    {
      "cell_type": "code",
      "source": [
        "a,k=input().split(),int(input())\n",
        "n=len(a)\n",
        "print(*a[-k%n:]+a[:-k%n])\n"
      ],
      "metadata": {
        "id": "Ja4-lSSTHPP7"
      },
      "execution_count": null,
      "outputs": []
    },
    {
      "cell_type": "markdown",
      "source": [
        "## QUESTION - V\n",
        "\n",
        "Reverse Words in a String \n",
        "\n",
        "Input: Reverse Coding 2022\n",
        "\n",
        "Output: esreveR gnidoC 2202\n"
      ],
      "metadata": {
        "id": "aijncnIOHcfC"
      }
    },
    {
      "cell_type": "code",
      "source": [
        "print(' '.join(input()[::-1].split()[::-1]))"
      ],
      "metadata": {
        "id": "FbJAEVrtHlTg"
      },
      "execution_count": null,
      "outputs": []
    }
  ]
}